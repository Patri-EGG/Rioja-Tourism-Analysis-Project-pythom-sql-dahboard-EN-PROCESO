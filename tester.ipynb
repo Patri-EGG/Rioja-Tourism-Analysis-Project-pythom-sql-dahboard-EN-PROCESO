{
 "cells": [
  {
   "cell_type": "code",
   "execution_count": 88,
   "metadata": {},
   "outputs": [],
   "source": [
    "from bs4 import BeautifulSoup\n",
    "import requests\n",
    "import re"
   ]
  },
  {
   "cell_type": "code",
   "execution_count": 89,
   "metadata": {},
   "outputs": [],
   "source": [
    "mi_url ='https://www.tripadvisor.com/Attractions-g187511-Activities-oa0-La_Rioja.html'\n",
    "respuesta = requests.get(mi_url,\n",
    "        headers = {\n",
    "            'User-Agent': \"Mozilla/5.0 (Windows NT 10.0; Win64; x64) AppleWebKit/537.36 (KHTML, like Gecko) Firefox/87.0\",\n",
    "            'Accept-Language': 'es-ES,es;q=0.9'\n",
    "        })\n",
    "if respuesta.status_code == 200:\n",
    "    sopa = BeautifulSoup(respuesta.text, 'html.parser')\n",
    "else:\n",
    "    print(f\"Error al cargar la página {mi_url}: {respuesta.status_code, respuesta.reason}\")\n",
    "    \n"
   ]
  },
  {
   "cell_type": "code",
   "execution_count": null,
   "metadata": {},
   "outputs": [
    {
     "data": {
      "text/plain": [
       "['Calle del Laurel',\n",
       " 'Tierra Rapaz',\n",
       " 'Marques de Murrieta',\n",
       " 'Bodegas Lecea',\n",
       " 'Bodegas Franco Espanolas',\n",
       " 'Bodegas Muga',\n",
       " 'Vivanco',\n",
       " 'Bodegas Campo Viejo',\n",
       " 'Bodegas y Vinedos Gomez Cruzado',\n",
       " 'Bodegas Tritium',\n",
       " 'Animales-zoo-riojanatura',\n",
       " 'Bodegas Manzanos Haro',\n",
       " 'Bodega La Rioja Alta S.A.',\n",
       " 'Bodegas Lopez de Heredia Vina Tondonia',\n",
       " 'Monasterio de Yuso',\n",
       " 'Bodega Conde de los Andes',\n",
       " 'Arizcuren Bodega & Viñedos',\n",
       " 'Pozas de Aguas Termales de Arnedillo',\n",
       " 'CVNE Vino',\n",
       " 'Calle San Juan',\n",
       " 'Monasterio de Santa Maria La Real',\n",
       " 'Cueva de los Cien Pilares',\n",
       " 'Bodegas David Moreno',\n",
       " 'Bodegas Ontañón, El Templo del Vino',\n",
       " 'San Millan Suso Monastery',\n",
       " 'Bodegas Vina Ijalba S.A.',\n",
       " 'Bodegas Ramon Bilbao',\n",
       " 'Concatedral de Santa Maria de la Redonda',\n",
       " 'Museo de la Rioja',\n",
       " 'Bodegas Marqués De Cáceres']"
      ]
     },
     "execution_count": 90,
     "metadata": {},
     "output_type": "execute_result"
    }
   ],
   "source": [
    "nombre_m= [re.sub(r'^\\d+\\.\\s*', '', name.text.strip()) for name in sopa.find_all('h3', {'class': 'biGQs _P fiohW ngXxk'})]\n",
    "nombre_m"
   ]
  },
  {
   "cell_type": "code",
   "execution_count": 91,
   "metadata": {},
   "outputs": [
    {
     "data": {
      "text/plain": [
       "['4.5',\n",
       " '5.0',\n",
       " '5.0',\n",
       " '5.0',\n",
       " '4.5',\n",
       " '4.5',\n",
       " '4.5',\n",
       " '5.0',\n",
       " '4.5',\n",
       " '5.0',\n",
       " '5.0',\n",
       " '5.0',\n",
       " '4.5',\n",
       " '4.5',\n",
       " '4.5',\n",
       " '5.0',\n",
       " '5.0',\n",
       " '4.0',\n",
       " '4.5',\n",
       " '4.5',\n",
       " '4.5',\n",
       " '4.5',\n",
       " '4.5',\n",
       " '4.5',\n",
       " '4.0',\n",
       " '5.0',\n",
       " '4.0',\n",
       " '4.0',\n",
       " '4.5',\n",
       " '4.5']"
      ]
     },
     "execution_count": 91,
     "metadata": {},
     "output_type": "execute_result"
    }
   ],
   "source": [
    "rating =  [ratings.text.strip()[:3] for ratings in sopa.find_all('div', {'class': 'jVDab W f u w JqMhy'})]\n",
    "rating"
   ]
  },
  {
   "cell_type": "code",
   "execution_count": null,
   "metadata": {},
   "outputs": [
    {
     "name": "stdout",
     "output_type": "stream",
     "text": [
      "['3,669', '1,555', '462', '1,036', '1,428', '890', '1,009', '253', '590', '722', '325', '283', '614', '591', '742', '254', '156', '186', '553', '335', '360', '92', '345', '243', '446', '155', '299', '640', '244', '138']\n"
     ]
    }
   ],
   "source": [
    "\n",
    "num_reviews = [review.text.strip() for review in sopa.find_all('div', {'class': 'jVDab W f u w JqMhy'})]\n",
    "num_reviews_cleaned = [\n",
    "    re.search(r'bubbles(\\d[,\\d]*)', review).group(1)  # grab numbers that follow word  \"bubbles\"\n",
    "    for review in num_reviews if 'bubbles' in review  \n",
    "]\n",
    "\n",
    "print(num_reviews_cleaned)"
   ]
  }
 ],
 "metadata": {
  "kernelspec": {
   "display_name": "base",
   "language": "python",
   "name": "python3"
  },
  "language_info": {
   "codemirror_mode": {
    "name": "ipython",
    "version": 3
   },
   "file_extension": ".py",
   "mimetype": "text/x-python",
   "name": "python",
   "nbconvert_exporter": "python",
   "pygments_lexer": "ipython3",
   "version": "3.11.8"
  }
 },
 "nbformat": 4,
 "nbformat_minor": 2
}
