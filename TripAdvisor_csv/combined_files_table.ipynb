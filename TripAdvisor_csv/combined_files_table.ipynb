{
 "cells": [
  {
   "cell_type": "code",
   "execution_count": 9,
   "metadata": {},
   "outputs": [],
   "source": [
    "import pandas as pd"
   ]
  },
  {
   "cell_type": "code",
   "execution_count": 10,
   "metadata": {},
   "outputs": [
    {
     "name": "stdout",
     "output_type": "stream",
     "text": [
      "         Restaurant/Tapas Bar  Rating Number of Reviews  \\\n",
      "0           Restaurante Olano     4.0               132   \n",
      "1               La Vermuteria     4.5                26   \n",
      "2  Bar cafetería San Fernando     4.0                16   \n",
      "3           Bodegon El Parque     3.5                14   \n",
      "4                     El Mayo     0.0       0 opiniones   \n",
      "\n",
      "               Cuisine Type Price Range  Tripadvisor Ranking  Location  \n",
      "0  Restaurantes en Cenicero           €                  1.0  Cenicero  \n",
      "1    Mediterránea, Española           €                  2.0  Cenicero  \n",
      "2              Bar, Marisco    €€ - €€€                  3.0  Cenicero  \n",
      "3                  Española         NaN                  4.0  Cenicero  \n",
      "4    Mediterránea, Española         NaN                  5.0  Cenicero  \n"
     ]
    }
   ],
   "source": [
    "files_and_cities = [\n",
    "    ('restaurants_cenicero.csv', 'Cenicero'),\n",
    "    ('restaurants_alfaro.csv', 'Alfaro'),\n",
    "    ('restaurants_calahorra.csv', 'Calahorra'),\n",
    "    ('restaurants_briones.csv', 'Briones'),\n",
    "    ('restaurants_najera.csv', 'Nájera'),\n",
    "    ('restaurants_san_milla.csv', 'San Millán'),\n",
    "    ('restaurantes_santo_domingo.csv', 'Santo Domingo'),\n",
    "    ('restaurants_ezcaray_tripa.csv', 'Ezcaray'),\n",
    "    ('restaurants_haro_tripa.csv', 'Haro'),\n",
    "    ('restaurants_logrono_tripa.csv', 'Logroño'),\n",
    "]\n",
    "\n",
    "dataframes = []\n",
    "\n",
    "for file_path, city in files_and_cities:\n",
    "    df = pd.read_csv(file_path)  \n",
    "    df['Location'] = city          \n",
    "    dataframes.append(df)       \n",
    "\n",
    "\n",
    "combined_df = pd.concat(dataframes, ignore_index=True)\n",
    "\n",
    "\n",
    "combined_df.to_csv('top_restaurants_trip.csv', index=False)\n",
    "\n",
    "\n",
    "print(combined_df.head())"
   ]
  }
 ],
 "metadata": {
  "kernelspec": {
   "display_name": "base",
   "language": "python",
   "name": "python3"
  },
  "language_info": {
   "codemirror_mode": {
    "name": "ipython",
    "version": 3
   },
   "file_extension": ".py",
   "mimetype": "text/x-python",
   "name": "python",
   "nbconvert_exporter": "python",
   "pygments_lexer": "ipython3",
   "version": "3.11.8"
  }
 },
 "nbformat": 4,
 "nbformat_minor": 2
}
