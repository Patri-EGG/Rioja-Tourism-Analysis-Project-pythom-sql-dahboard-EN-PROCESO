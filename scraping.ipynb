{
 "cells": [
  {
   "cell_type": "code",
   "execution_count": 28,
   "metadata": {},
   "outputs": [],
   "source": [
    "import requests\n",
    "from bs4 import BeautifulSoup\n",
    "import pandas as pd\n",
    "import time\n",
    "import random\n",
    "import os\n",
    "import re"
   ]
  },
  {
   "cell_type": "markdown",
   "metadata": {},
   "source": [
    "### Top Restaurants by City:"
   ]
  },
  {
   "cell_type": "code",
   "execution_count": 29,
   "metadata": {},
   "outputs": [],
   "source": [
    "# Generate urls and save them\n",
    "with open('urls.txt', 'w') as file:\n",
    "    for i in range(20):\n",
    "        offset = i * 30\n",
    "        url = f'https://www.tripadvisor.es/Restaurants-g187512-oa{offset}-Haro_La_Rioja.html'\n",
    "        file.write(url + '\\n')"
   ]
  },
  {
   "cell_type": "code",
   "execution_count": 30,
   "metadata": {},
   "outputs": [],
   "source": [
    "def get_page_contents(url):\n",
    "    headers = {\n",
    "        'User-Agent': random.choice([\n",
    "            \"Mozilla/5.0 (Windows NT 10.0; Win64; x64) AppleWebKit/537.36 (KHTML, like Gecko) Chrome/91.0.4472.124 Safari/537.36\",\n",
    "            \"Mozilla/5.0 (Macintosh; Intel Mac OS X 10_15_7) AppleWebKit/537.36 (KHTML, like Gecko) Chrome/90.0.4430.212 Safari/537.36\",\n",
    "            \"Mozilla/5.0 (Windows NT 10.0; Win64; x64) AppleWebKit/537.36 (KHTML, like Gecko) Firefox/87.0\"\n",
    "        ]),\n",
    "        'Accept-Language': 'es-ES, es;q=0.5'\n",
    "    }\n",
    "    response = requests.get(url, headers=headers)\n",
    "    if response.status_code == 200:\n",
    "        return BeautifulSoup(response.text, 'html.parser')\n",
    "    else:\n",
    "        print(f\"Error al cargar la página {url}: {response.status_code}\")\n",
    "        return None"
   ]
  },
  {
   "cell_type": "code",
   "execution_count": 31,
   "metadata": {},
   "outputs": [
    {
     "name": "stdout",
     "output_type": "stream",
     "text": [
      "Scraping URL: https://www.tripadvisor.es/Restaurants-g187512-oa0-Haro_La_Rioja.html\n",
      "Scraping URL: https://www.tripadvisor.es/Restaurants-g187512-oa30-Haro_La_Rioja.html\n",
      "Scraping URL: https://www.tripadvisor.es/Restaurants-g187512-oa60-Haro_La_Rioja.html\n",
      "Scraping URL: https://www.tripadvisor.es/Restaurants-g187512-oa90-Haro_La_Rioja.html\n",
      "Scraping URL: https://www.tripadvisor.es/Restaurants-g187512-oa120-Haro_La_Rioja.html\n",
      "Scraping URL: https://www.tripadvisor.es/Restaurants-g187512-oa150-Haro_La_Rioja.html\n",
      "Scraping URL: https://www.tripadvisor.es/Restaurants-g187512-oa180-Haro_La_Rioja.html\n",
      "Scraping URL: https://www.tripadvisor.es/Restaurants-g187512-oa210-Haro_La_Rioja.html\n",
      "Scraping URL: https://www.tripadvisor.es/Restaurants-g187512-oa240-Haro_La_Rioja.html\n",
      "Scraping URL: https://www.tripadvisor.es/Restaurants-g187512-oa270-Haro_La_Rioja.html\n"
     ]
    },
    {
     "ename": "KeyboardInterrupt",
     "evalue": "",
     "output_type": "error",
     "traceback": [
      "\u001b[0;31m---------------------------------------------------------------------------\u001b[0m",
      "\u001b[0;31mKeyboardInterrupt\u001b[0m                         Traceback (most recent call last)",
      "Cell \u001b[0;32mIn[31], line 47\u001b[0m\n\u001b[1;32m     43\u001b[0m         \u001b[38;5;28;01mif\u001b[39;00m data \u001b[38;5;129;01mis\u001b[39;00m \u001b[38;5;129;01mnot\u001b[39;00m \u001b[38;5;28;01mNone\u001b[39;00m:\n\u001b[1;32m     44\u001b[0m             all_restaurants_data\u001b[38;5;241m.\u001b[39mappend(data)\n\u001b[0;32m---> 47\u001b[0m         time\u001b[38;5;241m.\u001b[39msleep(random\u001b[38;5;241m.\u001b[39muniform(\u001b[38;5;241m3\u001b[39m, \u001b[38;5;241m7\u001b[39m))  \u001b[38;5;66;03m# Pausa de entre 3 y 7 segundos\u001b[39;00m\n\u001b[1;32m     49\u001b[0m \u001b[38;5;66;03m# combine all  DataFrames\u001b[39;00m\n\u001b[1;32m     50\u001b[0m final_df \u001b[38;5;241m=\u001b[39m pd\u001b[38;5;241m.\u001b[39mconcat(all_restaurants_data, ignore_index\u001b[38;5;241m=\u001b[39m\u001b[38;5;28;01mTrue\u001b[39;00m)\n",
      "\u001b[0;31mKeyboardInterrupt\u001b[0m: "
     ]
    }
   ],
   "source": [
    "\n",
    "def get_restaurants_data(url):\n",
    "    soup = get_page_contents(url)\n",
    "    if not soup:\n",
    "        return None\n",
    "    \n",
    "    names = [re.sub(r'^\\d+\\.\\s*', '', name.text.strip()) for name in soup.find_all('h3', {'class': 'biGQs _P fiohW ngXxk'})]\n",
    "    num_reviews = [review.text.strip() for review in soup.find_all('span', {'class': 'yyzcQ'})]\n",
    "    ratings = [rating['aria-label'].split(' ')[0].replace(',', '.') \n",
    "               for rating in soup.find_all('div', {'class': 'jVDab W f u w JqMhy'}) \n",
    "               if rating.has_attr('aria-label')]\n",
    "\n",
    "   \n",
    "    span_elements = soup.find_all('span', {'class': 'biGQs _P pZUbB hmDzD'})\n",
    "    cuisine_type = [span.text.strip() for span in span_elements if \"€\" not in span.text.strip() and \"Carta\" not in span.text.strip()]\n",
    "    prices = [span.text.strip() for span in span_elements if \"€\" in span.text.strip()]\n",
    "    \n",
    "    # allign dictonary\n",
    "    restaurants_list = []\n",
    "    for i in range(len(names)):\n",
    "        restaurant_data = {\n",
    "            'Restaurant/Tapas Bar': names[i] if i < len(names) else None,\n",
    "            'Rating': ratings[i] if i < len(ratings) else None,\n",
    "            'Number of Reviews': num_reviews[i] if i < len(num_reviews) else None,\n",
    "            'Cuisine Type': cuisine_type[i] if i < len(cuisine_type) else None,\n",
    "            'Price Range': prices[i] if i < len(prices) else None\n",
    "        }\n",
    "        restaurants_list.append(restaurant_data)\n",
    "    \n",
    "    \n",
    "    return pd.DataFrame(restaurants_list)\n",
    "\n",
    "# read saved urls and get data\n",
    "all_restaurants_data = []\n",
    "with open('urls.txt', 'r') as file:\n",
    "    urls = file.readlines()\n",
    "    \n",
    "    for url in urls:\n",
    "        url = url.strip()  # remove spaces line jumps\n",
    "        print(f\"Scraping URL: {url}\")\n",
    "        \n",
    "        # scrap each page\n",
    "        data = get_restaurants_data(url)\n",
    "        if data is not None:\n",
    "            all_restaurants_data.append(data)\n",
    "        \n",
    "        \n",
    "        time.sleep(random.uniform(3, 7))  # Pausa de entre 3 y 7 segundos\n",
    "\n",
    "# combine all  DataFrames\n",
    "final_df = pd.concat(all_restaurants_data, ignore_index=True)\n",
    "final_df.head()"
   ]
  },
  {
   "cell_type": "code",
   "execution_count": null,
   "metadata": {},
   "outputs": [],
   "source": [
    "# drop first row of first page (unwanted prmoted restaurant)\n",
    "# final_df = final_df.drop(0).reset_index(drop=True)"
   ]
  },
  {
   "cell_type": "code",
   "execution_count": null,
   "metadata": {},
   "outputs": [],
   "source": [
    "# final_df.head()"
   ]
  },
  {
   "cell_type": "code",
   "execution_count": null,
   "metadata": {},
   "outputs": [],
   "source": [
    "# final_df.to_csv('df.csv', index=False)"
   ]
  },
  {
   "cell_type": "markdown",
   "metadata": {},
   "source": [
    "### Top Things to Do (top activities) in La Rioja:"
   ]
  },
  {
   "cell_type": "code",
   "execution_count": null,
   "metadata": {},
   "outputs": [],
   "source": [
    "# create folder for urls\n",
    "url_folder = 'tripadvisor_act_urls'\n",
    "os.makedirs(url_folder, exist_ok=True)\n",
    "\n",
    "for i in range(19):  # number of pages\n",
    "    offset = i * 30  # offset range\n",
    "    url_act = f'https://www.tripadvisor.com/Attractions-g187511-Activities-oa{offset}-La_Rioja.html'\n",
    "    file_path = os.path.join(url_folder, f'urls_page_{i+1}.txt')\n",
    "    with open(file_path, 'w') as file:\n",
    "        file.write(url_act + '\\n')"
   ]
  },
  {
   "cell_type": "code",
   "execution_count": 32,
   "metadata": {},
   "outputs": [
    {
     "name": "stdout",
     "output_type": "stream",
     "text": [
      "Scraping URL: https://www.tripadvisor.com/Attractions-g187511-Activities-oa150-La_Rioja.html\n",
      "Scraping URL: https://www.tripadvisor.com/Attractions-g187511-Activities-oa180-La_Rioja.html\n",
      "Scraping URL: https://www.tripadvisor.com/Attractions-g187511-Activities-oa510-La_Rioja.html\n",
      "Scraping URL: https://www.tripadvisor.com/Attractions-g187511-Activities-oa120-La_Rioja.html\n",
      "Scraping URL: https://www.tripadvisor.com/Attractions-g187511-Activities-oa90-La_Rioja.html\n",
      "Scraping URL: https://www.tripadvisor.com/Attractions-g187511-Activities-oa540-La_Rioja.html\n",
      "Scraping URL: https://www.tripadvisor.com/Attractions-g187511-Activities-oa0-La_Rioja.html\n",
      "Scraping URL: https://www.tripadvisor.com/Attractions-g187511-Activities-oa60-La_Rioja.html\n",
      "Scraping URL: https://www.tripadvisor.com/Attractions-g187511-Activities-oa30-La_Rioja.html\n",
      "Scraping URL: https://www.tripadvisor.com/Attractions-g187511-Activities-oa330-La_Rioja.html\n",
      "Scraping URL: https://www.tripadvisor.com/Attractions-g187511-Activities-oa360-La_Rioja.html\n",
      "Scraping URL: https://www.tripadvisor.com/Attractions-g187511-Activities-oa300-La_Rioja.html\n",
      "Scraping URL: https://www.tripadvisor.com/Attractions-g187511-Activities-oa270-La_Rioja.html\n",
      "Scraping URL: https://www.tripadvisor.com/Attractions-g187511-Activities-oa390-La_Rioja.html\n",
      "Scraping URL: https://www.tripadvisor.com/Attractions-g187511-Activities-oa240-La_Rioja.html\n",
      "Scraping URL: https://www.tripadvisor.com/Attractions-g187511-Activities-oa210-La_Rioja.html\n",
      "Scraping URL: https://www.tripadvisor.com/Attractions-g187511-Activities-oa420-La_Rioja.html\n",
      "Scraping URL: https://www.tripadvisor.com/Attractions-g187511-Activities-oa480-La_Rioja.html\n",
      "Scraping URL: https://www.tripadvisor.com/Attractions-g187511-Activities-oa450-La_Rioja.html\n"
     ]
    }
   ],
   "source": [
    "# get data and return DataFrame\n",
    "def get_activity_data(url):\n",
    "    soup = get_page_contents(url)\n",
    "    if not soup:\n",
    "        return None\n",
    "    \n",
    "    names = [re.sub(r'^\\d+\\.\\s*', '', name.text.strip()) for name in soup.find_all('h3', {'class': 'biGQs _P fiohW ngXxk'})]\n",
    "    num_reviews = [review.text.strip() for review in soup.find_all('div', {'class': 'jVDab W f u w JqMhy'})]\n",
    "    num_reviews_cleaned = [\n",
    "    re.search(r'bubbles(\\d[,\\d]*)', review).group(1)  # grab numbers that follow word  \"bubbles\"\n",
    "    for review in num_reviews if 'bubbles' in review  \n",
    "    ]\n",
    "    ratings = [rating.text.strip()[:3] for rating in soup.find_all('div', {'class': 'jVDab W f u w JqMhy'})]\n",
    "    categories = [categorie.text.strip() for categorie in soup.find_all('span', {'class': 'biGQs _P pZUbB avBIb hmDzD'})]\n",
    "    locations = soup.find_all('a', href=lambda href: href and '/Attraction_Review' in href)\n",
    "    location_clean= [\n",
    "    re.search(r'-([A-Za-z_]+)_La_Rioja', link['href']).group(1)\n",
    "    for link in locations\n",
    "    if '#REVIEWS' not in link['href'] and re.search(r'-([A-Za-z_]+)_La_Rioja', link['href'])\n",
    "    ]\n",
    "    location_unique = list(set(location_clean))\n",
    "    \n",
    "    \n",
    "# allign dictonary\n",
    "    activity_list = []\n",
    "    for i in range(len(names)):\n",
    "        activity_data = {\n",
    "            'actividad': names[i] if i < len(names) else None,\n",
    "            'num_resenas': num_reviews_cleaned [i] if i < len(num_reviews_cleaned ) else None,\n",
    "            'valoracion': ratings[i] if i < len(ratings) else None,\n",
    "            'categoria': categories[i] if i < len(categories) else None,\n",
    "            'ubicacion': location_unique[i] if i < len(location_unique) else None\n",
    "        }\n",
    "        activity_list.append(activity_data)\n",
    "    \n",
    "    return pd.DataFrame(activity_list)\n",
    "\n",
    "# read saved urls and get data\n",
    "all_activities_data = []\n",
    "for file_name in os.listdir(url_folder):\n",
    "    file_path = os.path.join(url_folder, file_name)\n",
    "    with open(file_path, 'r') as file:\n",
    "        url = file.readline().strip()  # read url file\n",
    "        print(f\"Scraping URL: {url}\")\n",
    "        data = get_activity_data(url)\n",
    "        if data is not None:\n",
    "            all_activities_data.append(data)\n",
    "        time.sleep(random.uniform(3, 7))\n",
    "\n",
    "# combine all  DataFrames\n",
    "final_actdf = pd.concat(all_activities_data, ignore_index=True)"
   ]
  },
  {
   "cell_type": "code",
   "execution_count": 39,
   "metadata": {},
   "outputs": [
    {
     "data": {
      "text/html": [
       "<div>\n",
       "<style scoped>\n",
       "    .dataframe tbody tr th:only-of-type {\n",
       "        vertical-align: middle;\n",
       "    }\n",
       "\n",
       "    .dataframe tbody tr th {\n",
       "        vertical-align: top;\n",
       "    }\n",
       "\n",
       "    .dataframe thead th {\n",
       "        text-align: right;\n",
       "    }\n",
       "</style>\n",
       "<table border=\"1\" class=\"dataframe\">\n",
       "  <thead>\n",
       "    <tr style=\"text-align: right;\">\n",
       "      <th></th>\n",
       "      <th>actividad</th>\n",
       "      <th>num_resenas</th>\n",
       "      <th>valoracion</th>\n",
       "      <th>categoria</th>\n",
       "      <th>ubicacion</th>\n",
       "    </tr>\n",
       "  </thead>\n",
       "  <tbody>\n",
       "    <tr>\n",
       "      <th>0</th>\n",
       "      <td>Sala Amos Salvador</td>\n",
       "      <td>6</td>\n",
       "      <td>4.5</td>\n",
       "      <td>Art Museums</td>\n",
       "      <td>Torrecilla_en_Cameros</td>\n",
       "    </tr>\n",
       "    <tr>\n",
       "      <th>1</th>\n",
       "      <td>Oficina de Turismo de Arnedo</td>\n",
       "      <td>12</td>\n",
       "      <td>4.5</td>\n",
       "      <td>Visitor Centers</td>\n",
       "      <td>Viguera</td>\n",
       "    </tr>\n",
       "  </tbody>\n",
       "</table>\n",
       "</div>"
      ],
      "text/plain": [
       "                      actividad num_resenas valoracion        categoria  \\\n",
       "0            Sala Amos Salvador           6        4.5      Art Museums   \n",
       "1  Oficina de Turismo de Arnedo          12        4.5  Visitor Centers   \n",
       "\n",
       "               ubicacion  \n",
       "0  Torrecilla_en_Cameros  \n",
       "1                Viguera  "
      ]
     },
     "execution_count": 39,
     "metadata": {},
     "output_type": "execute_result"
    }
   ],
   "source": [
    "final_actdf.head(2)\n"
   ]
  },
  {
   "cell_type": "code",
   "execution_count": 53,
   "metadata": {},
   "outputs": [
    {
     "name": "stdout",
     "output_type": "stream",
     "text": [
      "<class 'pandas.core.frame.DataFrame'>\n",
      "RangeIndex: 570 entries, 0 to 569\n",
      "Data columns (total 5 columns):\n",
      " #   Column       Non-Null Count  Dtype  \n",
      "---  ------       --------------  -----  \n",
      " 0   actividad    570 non-null    object \n",
      " 1   num_resenas  570 non-null    int64  \n",
      " 2   valoracion   420 non-null    float64\n",
      " 3   categoria    300 non-null    object \n",
      " 4   ubicacion    308 non-null    object \n",
      "dtypes: float64(1), int64(1), object(3)\n",
      "memory usage: 22.4+ KB\n"
     ]
    }
   ],
   "source": [
    "final_actdf.info()"
   ]
  },
  {
   "cell_type": "code",
   "execution_count": null,
   "metadata": {},
   "outputs": [],
   "source": [
    "final_actdf['valoracion'] = final_actdf['valoracion'].astype(float)\n",
    "final_actdf['valoracion']"
   ]
  },
  {
   "cell_type": "code",
   "execution_count": 52,
   "metadata": {},
   "outputs": [],
   "source": [
    "final_actdf['num_resenas'] = final_actdf['num_resenas'].fillna('0')  \n",
    "final_actdf['num_resenas'] = final_actdf['num_resenas'].str.replace(',', '').astype(int) "
   ]
  },
  {
   "cell_type": "code",
   "execution_count": 56,
   "metadata": {},
   "outputs": [],
   "source": [
    "import numpy as np\n",
    "final_actdf['num_resenas'] = final_actdf['num_resenas'].replace('0', np.nan)"
   ]
  },
  {
   "cell_type": "code",
   "execution_count": 59,
   "metadata": {},
   "outputs": [
    {
     "data": {
      "text/plain": [
       "actividad      570\n",
       "num_resenas    570\n",
       "valoracion     570\n",
       "categoria      570\n",
       "ubicacion      570\n",
       "dtype: int64"
      ]
     },
     "execution_count": 59,
     "metadata": {},
     "output_type": "execute_result"
    }
   ],
   "source": [
    "final_actdf.isnull().count()"
   ]
  },
  {
   "cell_type": "code",
   "execution_count": 69,
   "metadata": {},
   "outputs": [
    {
     "data": {
      "text/plain": [
       "array(['Torrecilla en Cameros', 'Viguera', 'San Asensio', 'Navarrete',\n",
       "       'Enciso', 'Arnedillo', 'Cenicero', 'Mansilla de la Sierra', 'Haro',\n",
       "       'Cuzcurrita de Rio Tiron', 'Murillo del Rio Leza', 'Logrono',\n",
       "       'El Villar', 'Briones', 'Ezcaray', 'Canas', 'Sojuela', 'Arnedo',\n",
       "       'Ribabellosa', 'Aldeanueva de Ebro', None, 'Najera',\n",
       "       'Albelda de Iregua', 'Sajazarra', 'Ollauri', 'Calahorra',\n",
       "       'San Vicente de la Sonsierra', 'Fuenmayor',\n",
       "       'Santo Domingo de la Calzada', 'Brinas', 'Alfaro', 'Pradejon',\n",
       "       'Bambu', 'Berceo', 'Lanciego', 'Banos de Rio Tobia', 'Lumbreras',\n",
       "       'Clavijo', 'Badaran', 'Alcanadre', 'Autol', 'Ventosa',\n",
       "       'Cervera del Rio Alhama', 'Navajun', 'Gimileo', 'Torremontalbo',\n",
       "       'Oficina de Turismo de', 'Tricio', 'Matute', 'Cihuri',\n",
       "       'Aguilar del Rio Alhama', 'Galilea', 'Pradillo', 'Rodezno',\n",
       "       'Enjoy the most beautiful places in', 'Hornos de Moncalvillo',\n",
       "       'Villamediana de Iregua', 'Nalda', 'Fonzaleche', 'Casalarreina',\n",
       "       'Villanueva de Cameros', 'San Millan de la Cogolla', 'Bodega',\n",
       "       'Banos de Rioja', 'Lardero',\n",
       "       'Centro de Interpretacion Paleontologica de', 'Jardin Botanico de',\n",
       "       'Ortigosa De Cameros', 'Museo Wurth', 'Villoslada de Cameros',\n",
       "       'Anguiano', 'Cardenas', 'Ausejo', 'Banares', 'Hormilleja',\n",
       "       'Abalos', 'Museo Del Vino Portal De', 'Entrena',\n",
       "       'Castanares de Rioja', 'Hormilla', 'Galbarruli', 'Treviana',\n",
       "       'Pedroso', 'Viniegra de Arriba', 'Ojacastro', 'Viniegra de Abajo',\n",
       "       'Sotes', 'Herce', 'Islallana', 'Parlamento De', 'Agoncillo',\n",
       "       'Bobadilla', 'Ciruena', 'Soto en Cameros', 'Herramelluri',\n",
       "       'Sorzano', 'Panzares', 'Tirgo', 'Prejano'], dtype=object)"
      ]
     },
     "execution_count": 69,
     "metadata": {},
     "output_type": "execute_result"
    }
   ],
   "source": [
    "final_actdf['ubicacion'].unique()"
   ]
  },
  {
   "cell_type": "code",
   "execution_count": 68,
   "metadata": {},
   "outputs": [],
   "source": [
    "final_actdf['ubicacion'] = final_actdf['ubicacion'].str.replace('_', ' ')"
   ]
  },
  {
   "cell_type": "code",
   "execution_count": null,
   "metadata": {},
   "outputs": [],
   "source": [
    "# final_actdf.to_csv('top_activities_trip.csv', index=False)"
   ]
  }
 ],
 "metadata": {
  "kernelspec": {
   "display_name": "base",
   "language": "python",
   "name": "python3"
  },
  "language_info": {
   "codemirror_mode": {
    "name": "ipython",
    "version": 3
   },
   "file_extension": ".py",
   "mimetype": "text/x-python",
   "name": "python",
   "nbconvert_exporter": "python",
   "pygments_lexer": "ipython3",
   "version": "3.11.8"
  }
 },
 "nbformat": 4,
 "nbformat_minor": 2
}
