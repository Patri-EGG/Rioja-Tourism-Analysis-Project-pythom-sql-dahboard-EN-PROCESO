{
 "cells": [
  {
   "cell_type": "code",
   "execution_count": 2,
   "metadata": {},
   "outputs": [],
   "source": [
    "import requests\n",
    "from bs4 import BeautifulSoup\n",
    "import pandas as pd\n",
    "import time\n",
    "import random\n",
    "import os\n",
    "import re"
   ]
  },
  {
   "cell_type": "markdown",
   "metadata": {},
   "source": [
    "### Top Restaurants by City:"
   ]
  },
  {
   "cell_type": "code",
   "execution_count": 29,
   "metadata": {},
   "outputs": [],
   "source": [
    "# Generate urls and save them\n",
    "with open('urls.txt', 'w') as file:\n",
    "    for i in range(20):\n",
    "        offset = i * 30\n",
    "        url = f'https://www.tripadvisor.es/Restaurants-g187512-oa{offset}-Haro_La_Rioja.html'\n",
    "        file.write(url + '\\n')"
   ]
  },
  {
   "cell_type": "code",
   "execution_count": 3,
   "metadata": {},
   "outputs": [],
   "source": [
    "def get_page_contents(url):\n",
    "    headers = {\n",
    "        'User-Agent':\"Mozilla/5.0 (Windows NT 10.0; Win64; x64) AppleWebKit/537.36 (KHTML, like Gecko) Firefox/87.0\",\n",
    "        \n",
    "    }\n",
    "    response = requests.get(url, headers=headers)\n",
    "    if response.status_code == 200:\n",
    "        return BeautifulSoup(response.text, 'html.parser')\n",
    "    else:\n",
    "        print(f\"Error al cargar la página {url}: {response.status_code}\")\n",
    "        return None"
   ]
  },
  {
   "cell_type": "code",
   "execution_count": null,
   "metadata": {},
   "outputs": [],
   "source": [
    "\n",
    "def get_restaurants_data(url):\n",
    "    soup = get_page_contents(url)\n",
    "    if not soup:\n",
    "        return None\n",
    "    \n",
    "    names = [re.sub(r'^\\d+\\.\\s*', '', name.text.strip()) for name in soup.find_all('h3', {'class': 'biGQs _P fiohW ngXxk'})]\n",
    "    num_reviews = [review.text.strip() for review in soup.find_all('span', {'class': 'yyzcQ'})]\n",
    "    ratings = [rating['aria-label'].split(' ')[0].replace(',', '.') \n",
    "               for rating in soup.find_all('div', {'class': 'jVDab W f u w JqMhy'}) \n",
    "               if rating.has_attr('aria-label')]\n",
    "\n",
    "   \n",
    "    span_elements = soup.find_all('span', {'class': 'biGQs _P pZUbB hmDzD'})\n",
    "    cuisine_type = [span.text.strip() for span in span_elements if \"€\" not in span.text.strip() and \"Carta\" not in span.text.strip()]\n",
    "    prices = [span.text.strip() for span in span_elements if \"€\" in span.text.strip()]\n",
    "    \n",
    "    # allign dictonary\n",
    "    restaurants_list = []\n",
    "    for i in range(len(names)):\n",
    "        restaurant_data = {\n",
    "            'Restaurant/Tapas Bar': names[i] if i < len(names) else None,\n",
    "            'Rating': ratings[i] if i < len(ratings) else None,\n",
    "            'Number of Reviews': num_reviews[i] if i < len(num_reviews) else None,\n",
    "            'Cuisine Type': cuisine_type[i] if i < len(cuisine_type) else None,\n",
    "            'Price Range': prices[i] if i < len(prices) else None\n",
    "        }\n",
    "        restaurants_list.append(restaurant_data)\n",
    "    \n",
    "    \n",
    "    return pd.DataFrame(restaurants_list)\n",
    "\n",
    "# read saved urls and get data\n",
    "all_restaurants_data = []\n",
    "with open('urls.txt', 'r') as file:\n",
    "    urls = file.readlines()\n",
    "    \n",
    "    for url in urls:\n",
    "        url = url.strip()  # remove spaces line jumps\n",
    "        print(f\"Scraping URL: {url}\")\n",
    "        \n",
    "        # scrap each page\n",
    "        data = get_restaurants_data(url)\n",
    "        if data is not None:\n",
    "            all_restaurants_data.append(data)\n",
    "        \n",
    "        \n",
    "        time.sleep(random.uniform(3, 7))  # Pausa de entre 3 y 7 segundos\n",
    "\n",
    "# combine all  DataFrames\n",
    "final_df = pd.concat(all_restaurants_data, ignore_index=True)\n",
    "final_df.head()"
   ]
  },
  {
   "cell_type": "code",
   "execution_count": null,
   "metadata": {},
   "outputs": [],
   "source": [
    "# drop first row of first page (unwanted prmoted restaurant)\n",
    "# final_df = final_df.drop(0).reset_index(drop=True)"
   ]
  },
  {
   "cell_type": "code",
   "execution_count": null,
   "metadata": {},
   "outputs": [],
   "source": [
    "# final_df.head()"
   ]
  },
  {
   "cell_type": "code",
   "execution_count": null,
   "metadata": {},
   "outputs": [],
   "source": [
    "# final_df.to_csv('df.csv', index=False)"
   ]
  },
  {
   "cell_type": "markdown",
   "metadata": {},
   "source": [
    "### Top Things to Do (top activities) in La Rioja:"
   ]
  },
  {
   "cell_type": "code",
   "execution_count": 4,
   "metadata": {},
   "outputs": [],
   "source": [
    "# create folder for urls\n",
    "url_folder = 'tripadvisor_act_urls'\n",
    "os.makedirs(url_folder, exist_ok=True)\n",
    "\n",
    "for i in range(19):  # number of pages\n",
    "    offset = i * 30  # offset range\n",
    "    url_act = f'https://www.tripadvisor.com/Attractions-g187511-Activities-oa{offset}-La_Rioja.html'\n",
    "    file_path = os.path.join(url_folder, f'urls_page_{i+1}.txt')\n",
    "    with open(file_path, 'w') as file:\n",
    "        file.write(url_act + '\\n')"
   ]
  },
  {
   "cell_type": "code",
   "execution_count": 6,
   "metadata": {},
   "outputs": [
    {
     "name": "stdout",
     "output_type": "stream",
     "text": [
      "Scraping URL: https://www.tripadvisor.com/Attractions-g187511-Activities-oa150-La_Rioja.html\n",
      "Scraping URL: https://www.tripadvisor.com/Attractions-g187511-Activities-oa180-La_Rioja.html\n",
      "Scraping URL: https://www.tripadvisor.com/Attractions-g187511-Activities-oa510-La_Rioja.html\n",
      "Scraping URL: https://www.tripadvisor.com/Attractions-g187511-Activities-oa120-La_Rioja.html\n",
      "Scraping URL: https://www.tripadvisor.com/Attractions-g187511-Activities-oa90-La_Rioja.html\n",
      "Scraping URL: https://www.tripadvisor.com/Attractions-g187511-Activities-oa540-La_Rioja.html\n",
      "Scraping URL: https://www.tripadvisor.com/Attractions-g187511-Activities-oa0-La_Rioja.html\n",
      "Scraping URL: https://www.tripadvisor.com/Attractions-g187511-Activities-oa60-La_Rioja.html\n",
      "Scraping URL: https://www.tripadvisor.com/Attractions-g187511-Activities-oa30-La_Rioja.html\n",
      "Scraping URL: https://www.tripadvisor.com/Attractions-g187511-Activities-oa330-La_Rioja.html\n",
      "Scraping URL: https://www.tripadvisor.com/Attractions-g187511-Activities-oa360-La_Rioja.html\n",
      "Scraping URL: https://www.tripadvisor.com/Attractions-g187511-Activities-oa300-La_Rioja.html\n",
      "Scraping URL: https://www.tripadvisor.com/Attractions-g187511-Activities-oa270-La_Rioja.html\n",
      "Scraping URL: https://www.tripadvisor.com/Attractions-g187511-Activities-oa390-La_Rioja.html\n",
      "Scraping URL: https://www.tripadvisor.com/Attractions-g187511-Activities-oa240-La_Rioja.html\n",
      "Scraping URL: https://www.tripadvisor.com/Attractions-g187511-Activities-oa210-La_Rioja.html\n",
      "Scraping URL: https://www.tripadvisor.com/Attractions-g187511-Activities-oa420-La_Rioja.html\n",
      "Scraping URL: https://www.tripadvisor.com/Attractions-g187511-Activities-oa480-La_Rioja.html\n",
      "Scraping URL: https://www.tripadvisor.com/Attractions-g187511-Activities-oa450-La_Rioja.html\n"
     ]
    }
   ],
   "source": [
    "# get data and return DataFrame\n",
    "def get_activity_data(url):\n",
    "    soup = get_page_contents(url)\n",
    "    if not soup:\n",
    "        return None\n",
    "    \n",
    "    names = [re.sub(r'^\\d+\\.\\s*', '', name.text.strip()) for name in soup.find_all('h3', {'class': 'biGQs _P fiohW ngXxk'})]\n",
    "    num_reviews = [review.text.strip() for review in soup.find_all('div', {'class': 'jVDab W f u w JqMhy'})]\n",
    "    num_reviews_cleaned = [\n",
    "    re.search(r'bubbles(\\d[,\\d]*)', review).group(1)  # grab numbers that follow word  \"bubbles\"\n",
    "    for review in num_reviews if 'bubbles' in review  \n",
    "    ]\n",
    "    ratings = [rating.text.strip()[:3] for rating in soup.find_all('div', {'class': 'jVDab W f u w JqMhy'})]\n",
    "    categories = [categorie.text.strip() for categorie in soup.find_all('span', {'class': 'biGQs _P pZUbB avBIb hmDzD'})]\n",
    "    \n",
    "    # ------------------------------locations (un poco mas dificil de obtener)------------------------------\n",
    "    location_href = soup.find_all('a', {'class': 'BMQDV _F Gv wSSLS SwZTJ', 'href': True})\n",
    "    href_list = []\n",
    "    pattern = r'([A-Za-z_]+)_La_Rioja'\n",
    "        # Extraer y filtrar los valores de 'href' que comienzan con \"/Attraction\"\n",
    "    for location in location_href:\n",
    "            href = location['href']\n",
    "            if href.startswith('/Attraction'):  # Verifica si comienza con \"/Attraction\"\n",
    "                href_list.append(href)\n",
    "    href_list = href_list# habian enlaces duplicados. Uso set para eliminarlos antes de seguir\n",
    "        # Extraer ubicaciones\n",
    "    locations = []\n",
    "    for href in href_list[ : -5]:\n",
    "            match = re.search(pattern, href)\n",
    "            if match:\n",
    "                locations.append(match.group(1).replace('_', ' '))  # Reemplaza \"_\" en las ubicaciones por espacio \n",
    "        \n",
    "    \n",
    "    # allign dictonary\n",
    "    activity_list = []\n",
    "    for i in range(len(names)):\n",
    "        activity_data = {\n",
    "            'actividad': names[i] if i < len(names) else None,\n",
    "            'num_resenas': num_reviews_cleaned [i] if i < len(num_reviews_cleaned ) else None,\n",
    "            'valoracion': ratings[i] if i < len(ratings) else None,\n",
    "            'categoria': categories[i] if i < len(categories) else None,\n",
    "            'ubicacion': locations[i] if i < len(locations) else None\n",
    "        }\n",
    "        activity_list.append(activity_data)\n",
    "    \n",
    "    return pd.DataFrame(activity_list)\n",
    "\n",
    "# read saved urls and get data\n",
    "all_activities_data = []\n",
    "for file_name in os.listdir(url_folder):\n",
    "    file_path = os.path.join(url_folder, file_name)\n",
    "    with open(file_path, 'r') as file:\n",
    "        url = file.readline().strip()  # read url file\n",
    "        print(f\"Scraping URL: {url}\")\n",
    "        data = get_activity_data(url)\n",
    "        if data is not None:\n",
    "            all_activities_data.append(data)\n",
    "        time.sleep(random.uniform(3, 7))\n",
    "\n",
    "# combine all  DataFrames\n",
    "final_actdf = pd.concat(all_activities_data, ignore_index=True)"
   ]
  },
  {
   "cell_type": "code",
   "execution_count": 8,
   "metadata": {},
   "outputs": [
    {
     "data": {
      "text/html": [
       "<div>\n",
       "<style scoped>\n",
       "    .dataframe tbody tr th:only-of-type {\n",
       "        vertical-align: middle;\n",
       "    }\n",
       "\n",
       "    .dataframe tbody tr th {\n",
       "        vertical-align: top;\n",
       "    }\n",
       "\n",
       "    .dataframe thead th {\n",
       "        text-align: right;\n",
       "    }\n",
       "</style>\n",
       "<table border=\"1\" class=\"dataframe\">\n",
       "  <thead>\n",
       "    <tr style=\"text-align: right;\">\n",
       "      <th></th>\n",
       "      <th>actividad</th>\n",
       "      <th>num_resenas</th>\n",
       "      <th>valoracion</th>\n",
       "      <th>categoria</th>\n",
       "      <th>ubicacion</th>\n",
       "    </tr>\n",
       "  </thead>\n",
       "  <tbody>\n",
       "    <tr>\n",
       "      <th>0</th>\n",
       "      <td>Paseo de la Florida</td>\n",
       "      <td>13</td>\n",
       "      <td>4.0</td>\n",
       "      <td>Parks</td>\n",
       "      <td>Logrono</td>\n",
       "    </tr>\n",
       "    <tr>\n",
       "      <th>1</th>\n",
       "      <td>Castillo de Clavijo</td>\n",
       "      <td>27</td>\n",
       "      <td>4.0</td>\n",
       "      <td>Castles</td>\n",
       "      <td>Clavijo</td>\n",
       "    </tr>\n",
       "    <tr>\n",
       "      <th>2</th>\n",
       "      <td>Sala Amos Salvador</td>\n",
       "      <td>6</td>\n",
       "      <td>4.5</td>\n",
       "      <td>Art Museums</td>\n",
       "      <td>Logrono</td>\n",
       "    </tr>\n",
       "    <tr>\n",
       "      <th>3</th>\n",
       "      <td>Finca Ribavellosa</td>\n",
       "      <td>9</td>\n",
       "      <td>5.0</td>\n",
       "      <td>Hiking Trails</td>\n",
       "      <td>Ribabellosa</td>\n",
       "    </tr>\n",
       "    <tr>\n",
       "      <th>4</th>\n",
       "      <td>Centro de la Cultura del Rioja</td>\n",
       "      <td>52</td>\n",
       "      <td>3.5</td>\n",
       "      <td>Art Museums</td>\n",
       "      <td>Logrono</td>\n",
       "    </tr>\n",
       "    <tr>\n",
       "      <th>5</th>\n",
       "      <td>Chorrones de Pena Puerta</td>\n",
       "      <td>6</td>\n",
       "      <td>4.5</td>\n",
       "      <td>Waterfalls</td>\n",
       "      <td>Viguera</td>\n",
       "    </tr>\n",
       "    <tr>\n",
       "      <th>6</th>\n",
       "      <td>Monumento al Sagrado Corazón de Jesús</td>\n",
       "      <td>11</td>\n",
       "      <td>4.5</td>\n",
       "      <td>Monuments &amp; Statues</td>\n",
       "      <td>Torrecilla en Cameros</td>\n",
       "    </tr>\n",
       "    <tr>\n",
       "      <th>7</th>\n",
       "      <td>Ermita de Santa Barbara</td>\n",
       "      <td>5</td>\n",
       "      <td>4.0</td>\n",
       "      <td>Churches &amp; Cathedrals</td>\n",
       "      <td>Ezcaray</td>\n",
       "    </tr>\n",
       "  </tbody>\n",
       "</table>\n",
       "</div>"
      ],
      "text/plain": [
       "                               actividad num_resenas valoracion  \\\n",
       "0                    Paseo de la Florida          13        4.0   \n",
       "1                    Castillo de Clavijo          27        4.0   \n",
       "2                     Sala Amos Salvador           6        4.5   \n",
       "3                      Finca Ribavellosa           9        5.0   \n",
       "4         Centro de la Cultura del Rioja          52        3.5   \n",
       "5               Chorrones de Pena Puerta           6        4.5   \n",
       "6  Monumento al Sagrado Corazón de Jesús          11        4.5   \n",
       "7                Ermita de Santa Barbara           5        4.0   \n",
       "\n",
       "               categoria              ubicacion  \n",
       "0                  Parks                Logrono  \n",
       "1                Castles                Clavijo  \n",
       "2            Art Museums                Logrono  \n",
       "3          Hiking Trails            Ribabellosa  \n",
       "4            Art Museums                Logrono  \n",
       "5             Waterfalls                Viguera  \n",
       "6    Monuments & Statues  Torrecilla en Cameros  \n",
       "7  Churches & Cathedrals                Ezcaray  "
      ]
     },
     "execution_count": 8,
     "metadata": {},
     "output_type": "execute_result"
    }
   ],
   "source": [
    "final_actdf.head(8)\n"
   ]
  },
  {
   "cell_type": "code",
   "execution_count": 14,
   "metadata": {},
   "outputs": [
    {
     "name": "stdout",
     "output_type": "stream",
     "text": [
      "<class 'pandas.core.frame.DataFrame'>\n",
      "RangeIndex: 570 entries, 0 to 569\n",
      "Data columns (total 5 columns):\n",
      " #   Column       Non-Null Count  Dtype  \n",
      "---  ------       --------------  -----  \n",
      " 0   actividad    570 non-null    object \n",
      " 1   num_resenas  570 non-null    int64  \n",
      " 2   valoracion   423 non-null    float64\n",
      " 3   categoria    360 non-null    object \n",
      " 4   ubicacion    297 non-null    object \n",
      "dtypes: float64(1), int64(1), object(3)\n",
      "memory usage: 22.4+ KB\n"
     ]
    }
   ],
   "source": [
    "final_actdf.info()"
   ]
  },
  {
   "cell_type": "code",
   "execution_count": 10,
   "metadata": {},
   "outputs": [
    {
     "data": {
      "text/plain": [
       "0      4.0\n",
       "1      4.0\n",
       "2      4.5\n",
       "3      5.0\n",
       "4      3.5\n",
       "      ... \n",
       "565    NaN\n",
       "566    NaN\n",
       "567    NaN\n",
       "568    NaN\n",
       "569    NaN\n",
       "Name: valoracion, Length: 570, dtype: float64"
      ]
     },
     "execution_count": 10,
     "metadata": {},
     "output_type": "execute_result"
    }
   ],
   "source": [
    "final_actdf['valoracion'] = final_actdf['valoracion'].astype(float)\n",
    "final_actdf['valoracion']"
   ]
  },
  {
   "cell_type": "code",
   "execution_count": 11,
   "metadata": {},
   "outputs": [],
   "source": [
    "final_actdf['num_resenas'] = final_actdf['num_resenas'].fillna('0')  \n",
    "final_actdf['num_resenas'] = final_actdf['num_resenas'].str.replace(',', '').astype(int) "
   ]
  },
  {
   "cell_type": "code",
   "execution_count": 12,
   "metadata": {},
   "outputs": [],
   "source": [
    "import numpy as np\n",
    "final_actdf['num_resenas'] = final_actdf['num_resenas'].replace('0', np.nan)"
   ]
  },
  {
   "cell_type": "code",
   "execution_count": 13,
   "metadata": {},
   "outputs": [
    {
     "data": {
      "text/plain": [
       "actividad      570\n",
       "num_resenas    570\n",
       "valoracion     570\n",
       "categoria      570\n",
       "ubicacion      570\n",
       "dtype: int64"
      ]
     },
     "execution_count": 13,
     "metadata": {},
     "output_type": "execute_result"
    }
   ],
   "source": [
    "final_actdf.isnull().count()"
   ]
  },
  {
   "cell_type": "code",
   "execution_count": 15,
   "metadata": {},
   "outputs": [
    {
     "data": {
      "text/plain": [
       "array(['Parks', 'Castles', 'Art Museums', 'Hiking Trails', 'Waterfalls',\n",
       "       'Monuments & Statues', 'Churches & Cathedrals', 'Religious Sites',\n",
       "       'Sports Complexes', 'Theaters', 'Wineries & Vineyards',\n",
       "       'Escape Games', 'Points of Interest & Landmarks',\n",
       "       'Factory Outlets', 'Bodies of Water', 'Fountains', 'Golf Courses',\n",
       "       'Bridges', 'Visitor Centers', 'Government Buildings',\n",
       "       'Architectural Buildings', 'Piers & Boardwalks',\n",
       "       'Speciality & Gift Shops', 'Speciality Museums', 'Spas',\n",
       "       'Ancient Ruins', 'Taxis & Shuttles', 'Lessons & Workshops',\n",
       "       'Nature & Wildlife Tours', 'Climbing Tours', None, 'Wine Bars',\n",
       "       'History Museums', 'Game & Entertainment Centers',\n",
       "       'Caverns & Caves', 'Shopping Malls', 'Gardens', 'Science Museums',\n",
       "       'Water Parks', 'Bars & Clubs', 'Gear Rentals', 'Sightseeing Tours',\n",
       "       'Dance Clubs & Discos', 'Horseback Riding Tours',\n",
       "       'Convention Centers', 'Wine Tours & Tastings', 'Department Stores',\n",
       "       \"Children's Museums\", 'Private Tours',\n",
       "       'Observation Decks & Towers', 'Cultural Events', 'Factory Tours',\n",
       "       'Movie Theaters', 'Hiking & Camping Tours', 'Balloon Rides',\n",
       "       'Casinos', 'Multi-day Tours', 'Bus Tours', 'Distilleries',\n",
       "       'Lookouts', 'Arenas & Stadiums', 'Cultural Tours', 'Playgrounds',\n",
       "       'Food Tours', 'Self-Guided Tours & Rentals', 'Segway Tours',\n",
       "       'Walking Tours', 'Day Trips', 'Canyoning & Rappelling Tours',\n",
       "       'Beer Tastings & Tours', '4WD, ATV & Off-Road Tours', 'Air Tours',\n",
       "       'Canyons', 'Health Clubs', 'Historical & Heritage Tours',\n",
       "       'Parasailing & Paragliding'], dtype=object)"
      ]
     },
     "execution_count": 15,
     "metadata": {},
     "output_type": "execute_result"
    }
   ],
   "source": [
    "final_actdf['categoria'].unique()"
   ]
  },
  {
   "cell_type": "code",
   "execution_count": 16,
   "metadata": {},
   "outputs": [],
   "source": [
    "final_actdf.to_csv('top_activities_trip3.csv', index=False)"
   ]
  }
 ],
 "metadata": {
  "kernelspec": {
   "display_name": "base",
   "language": "python",
   "name": "python3"
  },
  "language_info": {
   "codemirror_mode": {
    "name": "ipython",
    "version": 3
   },
   "file_extension": ".py",
   "mimetype": "text/x-python",
   "name": "python",
   "nbconvert_exporter": "python",
   "pygments_lexer": "ipython3",
   "version": "3.11.8"
  }
 },
 "nbformat": 4,
 "nbformat_minor": 2
}
